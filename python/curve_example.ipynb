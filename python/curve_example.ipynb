{
 "cells": [
  {
   "cell_type": "code",
   "execution_count": 10,
   "metadata": {},
   "outputs": [
    {
     "name": "stderr",
     "output_type": "stream",
     "text": [
      "┌ Info: Precompiling AutoViz [82aa6e0c-a491-5edf-8d4b-c16b98e4ea17]\n",
      "└ @ Base loading.jl:1242\n"
     ]
    }
   ],
   "source": [
    "using AutomotiveDrivingModels\n",
    "using AutoViz\n",
    "using Plots"
   ]
  },
  {
   "cell_type": "code",
   "execution_count": 11,
   "metadata": {},
   "outputs": [
    {
     "data": {
      "text/plain": [
       "append_to_curve! (generic function with 1 method)"
      ]
     },
     "execution_count": 11,
     "metadata": {},
     "output_type": "execute_result"
    }
   ],
   "source": [
    "function append_to_curve!(target::Curve, newstuff::Curve)\n",
    "    s_end = target[end].s\n",
    "    for c in newstuff\n",
    "        push!(target, CurvePt(c.pos, c.s+s_end, c.k, c.kd))\n",
    "    end\n",
    "    return target\n",
    "end"
   ]
  },
  {
   "cell_type": "code",
   "execution_count": 12,
   "metadata": {},
   "outputs": [
    {
     "data": {
      "text/plain": [
       "get_track (generic function with 1 method)"
      ]
     },
     "execution_count": 12,
     "metadata": {},
     "output_type": "execute_result"
    }
   ],
   "source": [
    "function get_track()\n",
    "\n",
    "#     x_coods = path_info[:,3]\n",
    "#     y_coods = path_info[:,4]\n",
    "    x_coods = [0., 5.]\n",
    "    y_coods = [3., 3.]\n",
    "    theta = [0., 0.]\n",
    "    turn_length = 10\n",
    "    new_theta = 0.\n",
    "    incremental_angle = (pi/4) / turn_length\n",
    "    radius = 1\n",
    "    for i = 1:turn_length\n",
    "        push!(theta, new_theta)\n",
    "        push!(x_coods, x_coods[end] + radius * cos(new_theta))\n",
    "        push!(y_coods, y_coods[end] + radius * sin(new_theta))\n",
    "        new_theta -= (incremental_angle)\n",
    "    end\n",
    "#     plot(x_coods, y_coods)\n",
    "    mid_coods = vcat(x_coods', y_coods', theta') # x coods in first row, y coods in second row, theta in third row\n",
    "    \n",
    "    \n",
    "    first_cood = VecSE2(mid_coods[1,1], mid_coods[2,1], mid_coods[3,1])\n",
    "    second_cood = VecSE2(mid_coods[1,2], mid_coods[2,2], mid_coods[3,2])\n",
    "    radius = 0.01\n",
    "    nsamples = 20\n",
    "\n",
    "    track = gen_bezier_curve(first_cood, second_cood, radius, radius, nsamples)\n",
    "    \n",
    "    curve_radius = incremental_angle\n",
    "    nsamples = 1000\n",
    "    for i = 3:turn_length+2\n",
    "        turn1 = VecSE2(mid_coods[1, i-1], mid_coods[2, i-1], mid_coods[3, i-1])\n",
    "        turn2 = VecSE2(mid_coods[1, i], mid_coods[2, i], mid_coods[3, i])\n",
    "        curve = gen_bezier_curve(turn1, turn2, curve_radius, curve_radius, nsamples)\n",
    "        append_to_curve!(track, curve)\n",
    "    end\n",
    "\n",
    "    return track\n",
    "end"
   ]
  },
  {
   "cell_type": "code",
   "execution_count": 13,
   "metadata": {},
   "outputs": [
    {
     "data": {
      "image/png": "[encoded data removed]",
      "text/plain": [
       "Cairo.CairoSurfaceIOStream{UInt32}(Ptr{Nothing} @0x00007fa9aa763150, 1000.0, 600.0, IOBuffer(data=UInt8[...], readable=true, writable=true, seekable=true, append=false, size=0, maxsize=Inf, ptr=1, mark=-1))"
      ]
     },
     "execution_count": 13,
     "metadata": {},
     "output_type": "execute_result"
    }
   ],
   "source": [
    "nlanes = 1\n",
    "length = 50.\n",
    "width = DEFAULT_LANE_WIDTH\n",
    "roadway = gen_straight_roadway(nlanes, length)\n",
    "# roadway = Roadway()\n",
    "\n",
    "track = get_track()\n",
    "\n",
    "lane = Lane(LaneTag(1, 2), track, width=DEFAULT_LANE_WIDTH)\n",
    "push!(roadway.segments, RoadSegment(lane.tag.segment, [lane]))\n",
    "cam = FitToContentCamera(0.05)\n",
    "render(roadway, cam=cam)"
   ]
  },
  {
   "cell_type": "code",
   "execution_count": 14,
   "metadata": {},
   "outputs": [
    {
     "name": "stdout",
     "output_type": "stream",
     "text": [
      "(roadway.segments[1]).lanes = Lane{Float64}[Lane{Float64}(LaneTag(1, 1), CurvePt{Float64}[CurvePt({0.000, 0.000, 0.000}, 0.000, NaN, NaN), CurvePt({50.000, 0.000, 0.000}, 50.000, NaN, NaN)], 3.0, SpeedLimit(-Inf, Inf), LaneBoundary(:solid, :white), LaneBoundary(:solid, :white), LaneConnection{Int64,Float64}[], LaneConnection{Int64,Float64}[])]\n"
     ]
    },
    {
     "data": {
      "text/plain": [
       "1-element Array{Lane{Float64},1}:\n",
       " Lane{Float64}(LaneTag(1, 1), CurvePt{Float64}[CurvePt({0.000, 0.000, 0.000}, 0.000, NaN, NaN), CurvePt({50.000, 0.000, 0.000}, 50.000, NaN, NaN)], 3.0, SpeedLimit(-Inf, Inf), LaneBoundary(:solid, :white), LaneBoundary(:solid, :white), LaneConnection{Int64,Float64}[], LaneConnection{Int64,Float64}[])"
      ]
     },
     "execution_count": 14,
     "metadata": {},
     "output_type": "execute_result"
    }
   ],
   "source": [
    "@show roadway.segments[1].lanes"
   ]
  },
  {
   "cell_type": "code",
   "execution_count": 15,
   "metadata": {},
   "outputs": [
    {
     "data": {
      "text/plain": [
       "append_headings (generic function with 1 method)"
      ]
     },
     "execution_count": 15,
     "metadata": {},
     "output_type": "execute_result"
    }
   ],
   "source": [
    "function append_headings(coordinates::Matrix{Float64})\n",
    "    headings = ones(size(coordinates)[1])\n",
    "    for i = 1:size(coordinates)[1]-1\n",
    "        # need to make sure that math is right, and that bounds are kept\n",
    "        tangent_vector = [coordinates[i+1,1]-coordinates[i,1], coordinates[i+1,2]-coordinates[i,2]]\n",
    "        # @show tangent_vector\n",
    "        current_heading = get_new_angle(tangent_vector)\n",
    "        # @show current_heading\n",
    "        headings[i] = current_heading\n",
    "    end\n",
    "    headings[end] = headings[end-1] # assume this is fine\n",
    "    coordinates = hcat(coordinates, headings)\n",
    "    return coordinates\n",
    "end"
   ]
  },
  {
   "cell_type": "code",
   "execution_count": 16,
   "metadata": {},
   "outputs": [
    {
     "data": {
      "text/plain": [
       "get_new_angle (generic function with 1 method)"
      ]
     },
     "execution_count": 16,
     "metadata": {},
     "output_type": "execute_result"
    }
   ],
   "source": [
    "function get_new_angle(tangent_vector::Array{Float64})\n",
    "    # it might be a problem when we switch quadrants\n",
    "    # use signs of tangent vector to get the quadrant of the heading \n",
    "    x = tangent_vector[1]\n",
    "    y = tangent_vector[2]\n",
    "    if x == 0. && y == 0.\n",
    "        heading = 0.0\n",
    "    elseif x == 0.\n",
    "        heading = π/2 * sign(y) \n",
    "    elseif y == 0.\n",
    "        heading = convert(Float64, π) # this could be either pi or -pi, but just go with pi\n",
    "    elseif sign(x) == 1 && sign(y) == 1 # first quadrant\n",
    "        heading = atan(y, x)\n",
    "    elseif sign(x) == -1 && sign(y) == 1 # second quadrant\n",
    "        heading = atan(y, x)\n",
    "    elseif sign(x) == 1 && sign(y) == -1 # fourth quadrant\n",
    "        heading = atan(y, x)\n",
    "    elseif sign(x) == -1 && sign(y) == -1 # third quadrant\n",
    "        heading = atan(y, x)\n",
    "    end\n",
    "    # bound_heading doesn't end up getting called cause Julia takes care of it apparently\n",
    "    bound_heading(heading)\n",
    "\n",
    "    return heading\n",
    "end"
   ]
  },
  {
   "cell_type": "code",
   "execution_count": 17,
   "metadata": {},
   "outputs": [
    {
     "data": {
      "text/plain": [
       "bound_heading (generic function with 1 method)"
      ]
     },
     "execution_count": 17,
     "metadata": {},
     "output_type": "execute_result"
    }
   ],
   "source": [
    "function bound_heading(heading::Float64)\n",
    "    if heading > π # send this to be just near -pi\n",
    "        heading = -π + (heading - π)    # if heading is 3.15, then the new angle will be (-pi + (3.15-pi)) = -3.13\n",
    "    elseif heading < -π # send this to be just near pi \n",
    "        heading = π + (heading + π)     # if heading is -3.15, then the new angle will be (pi + (-3.15+pi)) = 3.13\n",
    "    end\n",
    "    return heading\n",
    "end"
   ]
  },
  {
   "cell_type": "code",
   "execution_count": null,
   "metadata": {},
   "outputs": [],
   "source": []
  }
 ],
 "metadata": {
  "kernelspec": {
   "display_name": "Julia 1.2.0",
   "language": "julia",
   "name": "julia-1.2"
  },
  "language_info": {
   "file_extension": ".jl",
   "mimetype": "application/julia",
   "name": "julia",
   "version": "1.2.0"
  }
 },
 "nbformat": 4,
 "nbformat_minor": 2
}
